{
 "cells": [
  {
   "cell_type": "code",
   "execution_count": 4,
   "metadata": {},
   "outputs": [
    {
     "name": "stdout",
     "output_type": "stream",
     "text": [
      "\n",
      "Predicted Stresslevel: medium\n",
      "Predicted Sleepefficiency: 0.9440000000000016\n",
      "\n",
      "Stress Model Accuracy: 0.9972567353606434\n",
      "Sleepefficiency Model Accuracy: 0.547396703252513\n"
     ]
    },
    {
     "name": "stderr",
     "output_type": "stream",
     "text": [
      "C:\\Users\\prabo\\AppData\\Roaming\\Python\\Python310\\site-packages\\sklearn\\base.py:464: UserWarning: X does not have valid feature names, but RandomForestRegressor was fitted with feature names\n",
      "  warnings.warn(\n",
      "C:\\Users\\prabo\\AppData\\Roaming\\Python\\Python310\\site-packages\\sklearn\\base.py:464: UserWarning: X does not have valid feature names, but RandomForestRegressor was fitted with feature names\n",
      "  warnings.warn(\n"
     ]
    }
   ],
   "source": [
    "import numpy as np\n",
    "import pandas as pd\n",
    "from sklearn.model_selection import train_test_split\n",
    "from sklearn.ensemble import RandomForestRegressor\n",
    "from sklearn.impute import SimpleImputer\n",
    "from sklearn.metrics import r2_score\n",
    "import pickle\n",
    "\n",
    "# Load your dataset (replace 'stress-level.csv' with your actual dataset file)\n",
    "data = pd.read_csv('stress-level.csv')\n",
    "\n",
    "# Preprocessing: Convert categorical Smoking status to binary (0/1)\n",
    "data['Smokingstatus'] = data['Smokingstatus'].apply(lambda x: 1 if x == 'Yes' else 0)\n",
    "\n",
    "# Handle missing values with imputation\n",
    "imputer = SimpleImputer(strategy='mean')\n",
    "data_imputed = pd.DataFrame(imputer.fit_transform(data), columns=data.columns)\n",
    "\n",
    "# Split data into features (X) and target variables (y)\n",
    "features = ['heartrate', 'Sleephours', 'Awakenings', 'Alcoholconsumption', 'Smokingstatus']\n",
    "X = data_imputed[features]\n",
    "y_stress = data_imputed['Stresslevel']\n",
    "y_sleepefficiency = data_imputed['Sleepefficiency']\n",
    "\n",
    "# Split data into training and testing sets\n",
    "X_train, X_test, y_stress_train, y_stress_test, y_sleepefficiency_train, y_sleepefficiency_test = train_test_split(\n",
    "    X, y_stress, y_sleepefficiency, test_size=0.2, random_state=42\n",
    ")\n",
    "\n",
    "# Initialize the Random Forest Regressor models\n",
    "stress_model = RandomForestRegressor(n_estimators=100, random_state=42)\n",
    "sleepefficiency_model = RandomForestRegressor(n_estimators=100, random_state=42)\n",
    "\n",
    "# Fit the models\n",
    "stress_model.fit(X_train, y_stress_train)\n",
    "sleepefficiency_model.fit(X_train, y_sleepefficiency_train)\n",
    "\n",
    "# Save the trained models as .pkl files\n",
    "with open('stress_model.pkl', 'wb') as stress_file:\n",
    "    pickle.dump(stress_model, stress_file)\n",
    "\n",
    "with open('sleepefficiency_model.pkl', 'wb') as sleepefficiency_file:\n",
    "    pickle.dump(sleepefficiency_model, sleepefficiency_file)\n",
    "\n",
    "# Load the trained models from .pkl files\n",
    "with open('stress_model.pkl', 'rb') as stress_file:\n",
    "    stress_model = pickle.load(stress_file)\n",
    "\n",
    "with open('sleepefficiency_model.pkl', 'rb') as sleepefficiency_file:\n",
    "    sleepefficiency_model = pickle.load(sleepefficiency_file)\n",
    "\n",
    "# Get user inputs\n",
    "user_heartrate = float(input(\"Enter heartrate: \"))\n",
    "user_sleephours = float(input(\"Enter Sleep hours: \"))\n",
    "user_awakenings = float(input(\"Enter Awakenings: \"))\n",
    "user_alcoholconsumption = float(input(\"Enter Alcohol consumption (0-5): \"))\n",
    "user_smokingstatus = input(\"Smoking status (Yes/No): \")\n",
    "\n",
    "user_smokingstatus = 1 if user_smokingstatus == 'Yes' else 0\n",
    "user_input = np.array([[user_heartrate, user_sleephours, user_awakenings, user_alcoholconsumption, user_smokingstatus]])\n",
    "\n",
    "# Predictions\n",
    "predicted_stress = stress_model.predict(user_input)[0]\n",
    "predicted_sleepefficiency = sleepefficiency_model.predict(user_input)[0]\n",
    "\n",
    "# Map numerical Stresslevel back to labels\n",
    "stress_labels = ['low-normal', 'medium low', 'medium', 'medium high', 'high']\n",
    "predicted_stress_label = stress_labels[np.argmax(np.histogram(predicted_stress, bins=len(stress_labels))[0])]\n",
    "\n",
    "# Display predictions\n",
    "print(\"\\nPredicted Stresslevel:\", predicted_stress_label)\n",
    "print(\"Predicted Sleepefficiency:\", predicted_sleepefficiency)\n",
    "\n",
    "# Calculate accuracy (you can use a separate test set for accurate evaluation)\n",
    "stress_pred_test = stress_model.predict(X_test)\n",
    "sleepefficiency_pred_test = sleepefficiency_model.predict(X_test)\n",
    "stress_accuracy = r2_score(y_stress_test, stress_pred_test)\n",
    "sleepefficiency_accuracy = r2_score(y_sleepefficiency_test, sleepefficiency_pred_test)\n",
    "print(\"\\nStress Model Accuracy:\", stress_accuracy)\n",
    "print(\"Sleepefficiency Model Accuracy:\", sleepefficiency_accuracy)\n"
   ]
  }
 ],
 "metadata": {
  "kernelspec": {
   "display_name": "resenv",
   "language": "python",
   "name": "python3"
  },
  "language_info": {
   "codemirror_mode": {
    "name": "ipython",
    "version": 3
   },
   "file_extension": ".py",
   "mimetype": "text/x-python",
   "name": "python",
   "nbconvert_exporter": "python",
   "pygments_lexer": "ipython3",
   "version": "3.10.8"
  },
  "orig_nbformat": 4
 },
 "nbformat": 4,
 "nbformat_minor": 2
}
